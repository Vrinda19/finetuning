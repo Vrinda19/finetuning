{
  "nbformat": 4,
  "nbformat_minor": 0,
  "metadata": {
    "colab": {
      "name": "Finetuneing.ipynb",
      "provenance": []
    },
    "kernelspec": {
      "name": "python3",
      "display_name": "Python 3"
    },
    "language_info": {
      "name": "python"
    },
    "accelerator": "GPU",
    "gpuClass": "standard"
  },
  "cells": [
    {
      "cell_type": "code",
      "source": [
        "!pip install wandb"
      ],
      "metadata": {
        "id": "AsMW5cSalsbE"
      },
      "execution_count": null,
      "outputs": []
    },
    {
      "cell_type": "code",
      "execution_count": 1,
      "metadata": {
        "id": "c_TkaMBpjldo"
      },
      "outputs": [],
      "source": [
        "import torch\n",
        "import torchvision\n",
        "import torchvision.transforms as transforms\n",
        "import torch.nn as nn\n",
        "import torch.nn.functional as F\n",
        "import matplotlib.pyplot as plt\n",
        "import numpy as np\n",
        "import torch.optim as optim\n",
        "from tqdm import tqdm\n",
        "\n"
      ]
    },
    {
      "cell_type": "code",
      "source": [
        "import wandb\n",
        "\n",
        "wandb.init(project=\"finetuning\")"
      ],
      "metadata": {
        "colab": {
          "base_uri": "https://localhost:8080/",
          "height": 109
        },
        "id": "CMfPATwSJlqq",
        "outputId": "0f290691-b2fc-48ab-8680-8462eab7ea08"
      },
      "execution_count": 2,
      "outputs": [
        {
          "output_type": "stream",
          "name": "stderr",
          "text": [
            "\u001b[34m\u001b[1mwandb\u001b[0m: Currently logged in as: \u001b[33mvrinda19\u001b[0m. Use \u001b[1m`wandb login --relogin`\u001b[0m to force relogin\n"
          ]
        },
        {
          "output_type": "display_data",
          "data": {
            "text/plain": [
              "<IPython.core.display.HTML object>"
            ],
            "text/html": [
              "Tracking run with wandb version 0.12.21"
            ]
          },
          "metadata": {}
        },
        {
          "output_type": "display_data",
          "data": {
            "text/plain": [
              "<IPython.core.display.HTML object>"
            ],
            "text/html": [
              "Run data is saved locally in <code>/content/wandb/run-20220716_192540-2lshi44x</code>"
            ]
          },
          "metadata": {}
        },
        {
          "output_type": "display_data",
          "data": {
            "text/plain": [
              "<IPython.core.display.HTML object>"
            ],
            "text/html": [
              "Syncing run <strong><a href=\"https://wandb.ai/vrinda19/finetuning/runs/2lshi44x\" target=\"_blank\">silvery-terrain-5</a></strong> to <a href=\"https://wandb.ai/vrinda19/finetuning\" target=\"_blank\">Weights & Biases</a> (<a href=\"https://wandb.me/run\" target=\"_blank\">docs</a>)<br/>"
            ]
          },
          "metadata": {}
        },
        {
          "output_type": "execute_result",
          "data": {
            "text/html": [
              "<button onClick=\"this.nextSibling.style.display='block';this.style.display='none';\">Display W&B run</button><iframe src=\"https://wandb.ai/vrinda19/finetuning/runs/2lshi44x?jupyter=true\" style=\"border:none;width:100%;height:420px;display:none;\"></iframe>"
            ],
            "text/plain": [
              "<wandb.sdk.wandb_run.Run at 0x7fc5bc349210>"
            ]
          },
          "metadata": {},
          "execution_count": 2
        }
      ]
    },
    {
      "cell_type": "code",
      "source": [
        "transform=transforms.Compose([transforms.ToTensor(),transforms.Normalize((0.5,0.5,0.5),(0.5,0.5,0.5))])\n",
        "train=torchvision.datasets.CIFAR10(\"./data\",train=True,download=True,transform=transform)\n",
        "train,val=torch.utils.data.random_split(train,[45000,5000])\n",
        "trainloader=torch.utils.data.DataLoader(train,shuffle=True,batch_size=32,num_workers=2)\n",
        "valloader=torch.utils.data.DataLoader(val,shuffle=False,batch_size=32,num_workers=2)\n",
        "test=torchvision.datasets.CIFAR10(\"./data\",train=False,download=True,transform=transform)\n",
        "testloader=torch.utils.data.DataLoader(test,shuffle=False,batch_size=32,num_workers=2)\n",
        "\n",
        "classes = ('plane', 'car', 'bird', 'cat',\n",
        "           'deer', 'dog', 'frog', 'horse', 'ship', 'truck')"
      ],
      "metadata": {
        "colab": {
          "base_uri": "https://localhost:8080/"
        },
        "id": "9HsQT2agjsX5",
        "outputId": "97108046-a0e3-402a-e8bc-c9ca029d1c34"
      },
      "execution_count": 3,
      "outputs": [
        {
          "output_type": "stream",
          "name": "stdout",
          "text": [
            "Files already downloaded and verified\n",
            "Files already downloaded and verified\n"
          ]
        }
      ]
    },
    {
      "cell_type": "code",
      "source": [
        "#vizualize images of each class\n",
        "\n",
        "def imshow(img):\n",
        "    img = img / 2 + 0.5     # unnormalize\n",
        "    npimg = img.numpy()\n",
        "    plt.imshow(np.transpose(npimg, (1, 2, 0)))\n",
        "    plt.show()\n",
        "# get some random training images\n",
        "dataiter = iter(trainloader)\n",
        "images, labels = dataiter.next()\n",
        "\n",
        "# show images\n",
        "imshow(torchvision.utils.make_grid(images))\n",
        "\n",
        "# print labels\n",
        "print(' '.join(f'{classes[labels[j]]:5s}' for j in range(32)))\n",
        "\n",
        "  "
      ],
      "metadata": {
        "colab": {
          "base_uri": "https://localhost:8080/",
          "height": 258
        },
        "id": "B1QuPVP1lyJ0",
        "outputId": "584d32da-809e-4712-87b2-8b6542747f87"
      },
      "execution_count": 4,
      "outputs": [
        {
          "output_type": "display_data",
          "data": {
            "text/plain": [
              "<Figure size 432x288 with 1 Axes>"
            ],
            "image/png": "[encoded data removed]"
          },
          "metadata": {
            "needs_background": "light"
          }
        },
        {
          "output_type": "stream",
          "name": "stdout",
          "text": [
            "dog   cat   horse cat   deer  plane bird  dog   car   deer  ship  frog  car   truck plane cat   deer  ship  ship  deer  deer  ship  dog   cat   plane horse horse frog  bird  car   truck car  \n"
          ]
        }
      ]
    },
    {
      "cell_type": "code",
      "source": [
        "#LeNet-5 architecture\n",
        "class ConvNet(nn.Module):\n",
        "  def __init__(self):\n",
        "    super().__init__()\n",
        "    self.conv1=nn.Conv2d(in_channels=3,out_channels=6,kernel_size=5)\n",
        "    self.dropout = nn.Dropout(0.4)\n",
        "    self.conv2=nn.Conv2d(in_channels=6,out_channels=16,kernel_size=5)\n",
        "    self.fc1=nn.Linear(16*5*5,120)#???\n",
        "    self.fc2=nn.Linear(120,84)\n",
        "    self.fc3=nn.Linear(84,10)\n",
        "\n",
        "  def forward(self,x):\n",
        "    x = F.relu(self.conv1(x))\n",
        "    x =  self.dropout(x)\n",
        "    x = F.avg_pool2d(x,2,2) \n",
        "    x = F.relu(self.conv2(x))\n",
        "    x =  self.dropout(x)\n",
        "    x = F.avg_pool2d(x, 2, 2)\n",
        "    x = x.view(x.size(0), -1)\n",
        "    x = F.relu(self.fc1(x))\n",
        "    x =  self.dropout(x)\n",
        "    x = F.relu(self.fc2(x))\n",
        "    x=  self.dropout(x)\n",
        "    x = self.fc3(x)\n",
        "    \n",
        "    return x\n",
        "ConvNet() \n",
        "\n"
      ],
      "metadata": {
        "colab": {
          "base_uri": "https://localhost:8080/"
        },
        "id": "Xu5fTxRAnl0N",
        "outputId": "2479e73d-402c-435d-9ca6-287c1d1a342e"
      },
      "execution_count": 5,
      "outputs": [
        {
          "output_type": "execute_result",
          "data": {
            "text/plain": [
              "ConvNet(\n",
              "  (conv1): Conv2d(3, 6, kernel_size=(5, 5), stride=(1, 1))\n",
              "  (dropout): Dropout(p=0.4, inplace=False)\n",
              "  (conv2): Conv2d(6, 16, kernel_size=(5, 5), stride=(1, 1))\n",
              "  (fc1): Linear(in_features=400, out_features=120, bias=True)\n",
              "  (fc2): Linear(in_features=120, out_features=84, bias=True)\n",
              "  (fc3): Linear(in_features=84, out_features=10, bias=True)\n",
              ")"
            ]
          },
          "metadata": {},
          "execution_count": 5
        }
      ]
    },
    {
      "cell_type": "code",
      "source": [
        "import os\n",
        "def train(net,trainloader,epoch,filename,path):\n",
        "  loss=nn.CrossEntropyLoss()\n",
        "  optimizer=optim.Adam(net.parameters(),lr=0.001,weight_decay=0.001)\n",
        "  device=torch.device('cuda' if torch.cuda.is_available() else \"cpu\")\n",
        "  net.to(device)\n",
        "  \n",
        "  total_loss=0\n",
        "  correct_pred=0\n",
        "  total_vl=0\n",
        "  correct_vl=0\n",
        "  \n",
        "  t_acc=[]\n",
        "  t_ls=[]\n",
        "  v_ls=[]\n",
        "  v_acc=[]\n",
        "  wandb.define_metric(\"epoch\")\n",
        "  wandb.define_metric(\"train_loss\", step_metric = \"epoch\")\n",
        "  wandb.define_metric(\"valid_loss\", step_metric = \"epoch\")\n",
        "  wandb.define_metric(\"train_accuracy\", step_metric = \"epoch\")\n",
        "  wandb.define_metric(\"valid_accuracy\", step_metric = \"epoch\")\n",
        "\n",
        "  min_valid_loss=np.inf #positive infinity\n",
        "  if not(os.path.exists(path)):\n",
        "      os.makedirs(path)\n",
        "  best_fname='best_'+filename\n",
        "  fname=os.path.join(path,filename)\n",
        "  best_fname=os.path.join(path,best_fname)\n",
        "\n",
        "  for epoch in tqdm(range(epoch)):\n",
        "    net.train()\n",
        "    loss_epoch=0\n",
        "    val_loss_epoch=0\n",
        "    for xtrain,ytrain in trainloader:\n",
        "      xtrain=xtrain.to(device)\n",
        "      ytrain=ytrain.to(device)\n",
        "      net.zero_grad()\n",
        "\n",
        "      ypredtrain=net(xtrain)\n",
        "      trainloss=loss(ypredtrain,ytrain)\n",
        "      loss_epoch+=trainloss.item() #loss.item() contains the loss of the entire mini-batch\n",
        "      trainloss.backward()\n",
        "      optimizer.step()\n",
        "      optimizer.zero_grad()\n",
        "      _,predicted=ypredtrain.max(1)\n",
        "      total_loss+=ytrain.size(0)\n",
        "      correct_pred+=predicted.eq(ytrain).sum().item()\n",
        "\n",
        "    print(\"Epoch\",int(epoch))\n",
        "    epoch_loss=round(loss_epoch/len(trainloader),2)\n",
        "    print(\"Training data loss\",epoch_loss)\n",
        "\n",
        "    epoch_accuracy=round(100*correct_pred/total_loss,2)\n",
        "    print(\"Accuracy is\",epoch_accuracy)\n",
        "    t_acc.append(epoch_accuracy)\n",
        "    t_ls.append(epoch_loss)\n",
        "    wandb.log({\"train_loss\": epoch_loss})\n",
        "    wandb.log({\"train_accuracy\": epoch_accuracy})\n",
        "    wandb.log({'epoch':epoch+1})   \n",
        "\n",
        "    net.eval()\n",
        "    with torch.no_grad():\n",
        "      for xval,yval in valloader:\n",
        "        \n",
        "        xval=xval.to(device)\n",
        "        yval=yval.to(device)\n",
        "\n",
        "        ypredval=net(xval)\n",
        "        valloss=loss(ypredval,yval)\n",
        "        val_loss_epoch+=valloss.item() #loss.item() contains the loss of the entire mini-batch\n",
        "        _, predicted = ypredval.max(1)\n",
        "        total_vl += yval.size(0)\n",
        "        correct_vl += predicted.eq(yval).sum().item()\n",
        "      v_ep_loss = round(val_loss_epoch/len(valloader),2)\n",
        "      print('\\tValidation loss',v_ep_loss )\n",
        "      v_ep_acc = round(100.*correct_vl/total_vl, 2)\n",
        "      print('\\tValidation Accuracy',v_ep_acc)\n",
        "      v_ls.append(v_ep_loss)\n",
        "      v_acc.append(v_ep_acc)\n",
        "\n",
        "      wandb.log({\"valid_loss\": v_ep_loss})\n",
        "      wandb.log({\"val_accuracy\": v_ep_acc})\n",
        "      wandb.log({'epoch':epoch+1})\n",
        "\n",
        "    if min_valid_loss>v_ep_acc:\n",
        "      print(f'Validation Loss Decreased({min_valid_loss:.6f}--->{v_ep_loss:.6f})')\n",
        "      print(\"saving best model\",best_fname)\n",
        "      min_valid_loss=v_ep_acc\n",
        "      torch.save(net.state_dict(),best_fname)\n",
        "\n",
        "\n",
        "  print('--Finished Training')\n",
        "  print('--Model saved to ', fname)\n",
        "  print('--Best model saved to', best_fname)\n",
        "      \n",
        "  #loss plotter for train and validation \n",
        "  plt.title('Cross Entropy Loss {}'.format(type(net).__name__))\n",
        "  plt.xlabel('Epoch')\n",
        " \n",
        "  plt.plot(t_ls,label=\"train\")\n",
        "  plt.plot(v_ls, label=\"valid\")\n",
        "  plt.legend()\n",
        "  fname = 'Train Cross Entropy Loss {}'.format(type(net).__name__) + '.eps'\n",
        "  fname = os.path.join(path, fname)\n",
        "  plt.savefig(fname, format='eps')\n",
        "  plt.show()\n",
        "\n",
        "  #accuracy plotter for train and validation\n",
        "  plt.title('Accuracy {}'.format(type(net).__name__))\n",
        "  plt.xlabel('Epoch')\n",
        "\n",
        "  plt.plot(t_acc,label=\"train\")\n",
        "  plt.plot(v_acc, label='valid' )\n",
        "  plt.legend()\n",
        "  \n",
        "  fname = 'Train Accuracy {}'.format(type(net).__name__) + '.eps'\n",
        "  fname = os.path.join(path, fname)\n",
        "  plt.savefig(fname, format='eps')\n",
        "  plt.show()\n",
        "\n"
      ],
      "metadata": {
        "id": "_ErbDsO0pkNX"
      },
      "execution_count": 6,
      "outputs": []
    },
    {
      "cell_type": "code",
      "source": [
        "model_cnn = ConvNet()\n",
        "wandb.watch(model_cnn, log=\"all\", log_freq=10)\n",
        "\n",
        "train(model_cnn, trainloader, epoch = 50, path = './weights/check_convnet/', filename = 'check_convnet.pth')"
      ],
      "metadata": {
        "colab": {
          "base_uri": "https://localhost:8080/",
          "height": 1000
        },
        "id": "qsPPuGWC54Vg",
        "outputId": "8d735180-c241-410b-ccef-46324fab3ec9"
      },
      "execution_count": 7,
      "outputs": [
        {
          "output_type": "stream",
          "name": "stderr",
          "text": [
            "\r  0%|          | 0/50 [00:00<?, ?it/s]"
          ]
        },
        {
          "output_type": "stream",
          "name": "stdout",
          "text": [
            "Epoch 0\n",
            "Training data loss 1.81\n",
            "Accuracy is 32.86\n"
          ]
        },
        {
          "output_type": "stream",
          "name": "stderr",
          "text": [
            "\r  2%|▏         | 1/50 [00:25<20:26, 25.03s/it]"
          ]
        },
        {
          "output_type": "stream",
          "name": "stdout",
          "text": [
            "\tValidation loss 1.56\n",
            "\tValidation Accuracy 43.22\n",
            "Validation Loss Decreased(inf--->1.560000)\n",
            "saving best model ./weights/check_convnet/best_check_convnet.pth\n",
            "Epoch 1\n",
            "Training data loss 1.58\n",
            "Accuracy is 37.76\n"
          ]
        },
        {
          "output_type": "stream",
          "name": "stderr",
          "text": [
            "\r  4%|▍         | 2/50 [00:45<17:42, 22.14s/it]"
          ]
        },
        {
          "output_type": "stream",
          "name": "stdout",
          "text": [
            "\tValidation loss 1.45\n",
            "\tValidation Accuracy 45.39\n",
            "Epoch 2\n",
            "Training data loss 1.51\n",
            "Accuracy is 40.45\n"
          ]
        },
        {
          "output_type": "stream",
          "name": "stderr",
          "text": [
            "\r  6%|▌         | 3/50 [01:04<16:27, 21.00s/it]"
          ]
        },
        {
          "output_type": "stream",
          "name": "stdout",
          "text": [
            "\tValidation loss 1.4\n",
            "\tValidation Accuracy 46.5\n",
            "Epoch 3\n",
            "Training data loss 1.47\n",
            "Accuracy is 42.24\n"
          ]
        },
        {
          "output_type": "stream",
          "name": "stderr",
          "text": [
            "\r  8%|▊         | 4/50 [01:26<16:13, 21.16s/it]"
          ]
        },
        {
          "output_type": "stream",
          "name": "stdout",
          "text": [
            "\tValidation loss 1.38\n",
            "\tValidation Accuracy 47.52\n",
            "Epoch 4\n",
            "Training data loss 1.43\n",
            "Accuracy is 43.62\n"
          ]
        },
        {
          "output_type": "stream",
          "name": "stderr",
          "text": [
            "\r 10%|█         | 5/50 [01:45<15:26, 20.60s/it]"
          ]
        },
        {
          "output_type": "stream",
          "name": "stdout",
          "text": [
            "\tValidation loss 1.32\n",
            "\tValidation Accuracy 48.41\n",
            "Epoch 5\n",
            "Training data loss 1.41\n",
            "Accuracy is 44.65\n"
          ]
        },
        {
          "output_type": "stream",
          "name": "stderr",
          "text": [
            "\r 12%|█▏        | 6/50 [02:06<15:04, 20.55s/it]"
          ]
        },
        {
          "output_type": "stream",
          "name": "stdout",
          "text": [
            "\tValidation loss 1.31\n",
            "\tValidation Accuracy 49.17\n",
            "Epoch 6\n",
            "Training data loss 1.39\n",
            "Accuracy is 45.51\n"
          ]
        },
        {
          "output_type": "stream",
          "name": "stderr",
          "text": [
            "\r 14%|█▍        | 7/50 [02:25<14:29, 20.23s/it]"
          ]
        },
        {
          "output_type": "stream",
          "name": "stdout",
          "text": [
            "\tValidation loss 1.29\n",
            "\tValidation Accuracy 49.67\n",
            "Epoch 7\n",
            "Training data loss 1.38\n",
            "Accuracy is 46.22\n"
          ]
        },
        {
          "output_type": "stream",
          "name": "stderr",
          "text": [
            "\r 16%|█▌        | 8/50 [02:45<14:01, 20.04s/it]"
          ]
        },
        {
          "output_type": "stream",
          "name": "stdout",
          "text": [
            "\tValidation loss 1.25\n",
            "\tValidation Accuracy 50.24\n",
            "Epoch 8\n",
            "Training data loss 1.36\n",
            "Accuracy is 46.83\n"
          ]
        },
        {
          "output_type": "stream",
          "name": "stderr",
          "text": [
            "\r 18%|█▊        | 9/50 [03:05<13:36, 19.91s/it]"
          ]
        },
        {
          "output_type": "stream",
          "name": "stdout",
          "text": [
            "\tValidation loss 1.24\n",
            "\tValidation Accuracy 50.82\n",
            "Epoch 9\n",
            "Training data loss 1.36\n",
            "Accuracy is 47.38\n"
          ]
        },
        {
          "output_type": "stream",
          "name": "stderr",
          "text": [
            "\r 20%|██        | 10/50 [03:25<13:21, 20.05s/it]"
          ]
        },
        {
          "output_type": "stream",
          "name": "stdout",
          "text": [
            "\tValidation loss 1.24\n",
            "\tValidation Accuracy 51.32\n",
            "Epoch 10\n",
            "Training data loss 1.35\n",
            "Accuracy is 47.82\n"
          ]
        },
        {
          "output_type": "stream",
          "name": "stderr",
          "text": [
            "\r 22%|██▏       | 11/50 [03:44<12:55, 19.88s/it]"
          ]
        },
        {
          "output_type": "stream",
          "name": "stdout",
          "text": [
            "\tValidation loss 1.21\n",
            "\tValidation Accuracy 51.82\n",
            "Epoch 11\n",
            "Training data loss 1.33\n",
            "Accuracy is 48.24\n"
          ]
        },
        {
          "output_type": "stream",
          "name": "stderr",
          "text": [
            "\r 24%|██▍       | 12/50 [04:04<12:31, 19.78s/it]"
          ]
        },
        {
          "output_type": "stream",
          "name": "stdout",
          "text": [
            "\tValidation loss 1.24\n",
            "\tValidation Accuracy 52.19\n",
            "Epoch 12\n",
            "Training data loss 1.33\n",
            "Accuracy is 48.63\n"
          ]
        },
        {
          "output_type": "stream",
          "name": "stderr",
          "text": [
            "\r 26%|██▌       | 13/50 [04:23<12:07, 19.65s/it]"
          ]
        },
        {
          "output_type": "stream",
          "name": "stdout",
          "text": [
            "\tValidation loss 1.19\n",
            "\tValidation Accuracy 52.64\n",
            "Epoch 13\n",
            "Training data loss 1.32\n",
            "Accuracy is 48.98\n"
          ]
        },
        {
          "output_type": "stream",
          "name": "stderr",
          "text": [
            "\r 28%|██▊       | 14/50 [04:44<11:53, 19.81s/it]"
          ]
        },
        {
          "output_type": "stream",
          "name": "stdout",
          "text": [
            "\tValidation loss 1.18\n",
            "\tValidation Accuracy 53.01\n",
            "Epoch 14\n",
            "Training data loss 1.3\n",
            "Accuracy is 49.35\n"
          ]
        },
        {
          "output_type": "stream",
          "name": "stderr",
          "text": [
            "\r 30%|███       | 15/50 [05:03<11:29, 19.70s/it]"
          ]
        },
        {
          "output_type": "stream",
          "name": "stdout",
          "text": [
            "\tValidation loss 1.19\n",
            "\tValidation Accuracy 53.3\n",
            "Epoch 15\n",
            "Training data loss 1.29\n",
            "Accuracy is 49.67\n"
          ]
        },
        {
          "output_type": "stream",
          "name": "stderr",
          "text": [
            "\r 32%|███▏      | 16/50 [05:22<11:08, 19.65s/it]"
          ]
        },
        {
          "output_type": "stream",
          "name": "stdout",
          "text": [
            "\tValidation loss 1.16\n",
            "\tValidation Accuracy 53.62\n",
            "Epoch 16\n",
            "Training data loss 1.29\n",
            "Accuracy is 49.97\n"
          ]
        },
        {
          "output_type": "stream",
          "name": "stderr",
          "text": [
            "\r 34%|███▍      | 17/50 [05:42<10:50, 19.71s/it]"
          ]
        },
        {
          "output_type": "stream",
          "name": "stdout",
          "text": [
            "\tValidation loss 1.15\n",
            "\tValidation Accuracy 53.95\n",
            "Epoch 17\n",
            "Training data loss 1.28\n",
            "Accuracy is 50.25\n"
          ]
        },
        {
          "output_type": "stream",
          "name": "stderr",
          "text": [
            "\r 36%|███▌      | 18/50 [06:02<10:34, 19.83s/it]"
          ]
        },
        {
          "output_type": "stream",
          "name": "stdout",
          "text": [
            "\tValidation loss 1.13\n",
            "\tValidation Accuracy 54.25\n",
            "Epoch 18\n",
            "Training data loss 1.28\n",
            "Accuracy is 50.51\n"
          ]
        },
        {
          "output_type": "stream",
          "name": "stderr",
          "text": [
            "\r 38%|███▊      | 19/50 [06:22<10:12, 19.75s/it]"
          ]
        },
        {
          "output_type": "stream",
          "name": "stdout",
          "text": [
            "\tValidation loss 1.15\n",
            "\tValidation Accuracy 54.5\n",
            "Epoch 19\n",
            "Training data loss 1.28\n",
            "Accuracy is 50.75\n"
          ]
        },
        {
          "output_type": "stream",
          "name": "stderr",
          "text": [
            "\r 40%|████      | 20/50 [06:41<09:48, 19.63s/it]"
          ]
        },
        {
          "output_type": "stream",
          "name": "stdout",
          "text": [
            "\tValidation loss 1.13\n",
            "\tValidation Accuracy 54.78\n",
            "Epoch 20\n",
            "Training data loss 1.27\n",
            "Accuracy is 50.99\n"
          ]
        },
        {
          "output_type": "stream",
          "name": "stderr",
          "text": [
            "\r 42%|████▏     | 21/50 [07:01<09:28, 19.61s/it]"
          ]
        },
        {
          "output_type": "stream",
          "name": "stdout",
          "text": [
            "\tValidation loss 1.13\n",
            "\tValidation Accuracy 55.03\n",
            "Epoch 21\n",
            "Training data loss 1.26\n",
            "Accuracy is 51.21\n"
          ]
        },
        {
          "output_type": "stream",
          "name": "stderr",
          "text": [
            "\r 44%|████▍     | 22/50 [07:20<09:05, 19.48s/it]"
          ]
        },
        {
          "output_type": "stream",
          "name": "stdout",
          "text": [
            "\tValidation loss 1.15\n",
            "\tValidation Accuracy 55.23\n",
            "Epoch 22\n",
            "Training data loss 1.26\n",
            "Accuracy is 51.41\n"
          ]
        },
        {
          "output_type": "stream",
          "name": "stderr",
          "text": [
            "\r 46%|████▌     | 23/50 [07:39<08:45, 19.45s/it]"
          ]
        },
        {
          "output_type": "stream",
          "name": "stdout",
          "text": [
            "\tValidation loss 1.13\n",
            "\tValidation Accuracy 55.45\n",
            "Epoch 23\n",
            "Training data loss 1.25\n",
            "Accuracy is 51.62\n"
          ]
        },
        {
          "output_type": "stream",
          "name": "stderr",
          "text": [
            "\r 48%|████▊     | 24/50 [07:59<08:23, 19.35s/it]"
          ]
        },
        {
          "output_type": "stream",
          "name": "stdout",
          "text": [
            "\tValidation loss 1.1\n",
            "\tValidation Accuracy 55.69\n",
            "Epoch 24\n",
            "Training data loss 1.25\n",
            "Accuracy is 51.8\n"
          ]
        },
        {
          "output_type": "stream",
          "name": "stderr",
          "text": [
            "\r 50%|█████     | 25/50 [08:18<08:03, 19.32s/it]"
          ]
        },
        {
          "output_type": "stream",
          "name": "stdout",
          "text": [
            "\tValidation loss 1.13\n",
            "\tValidation Accuracy 55.85\n",
            "Epoch 25\n",
            "Training data loss 1.24\n",
            "Accuracy is 51.99\n"
          ]
        },
        {
          "output_type": "stream",
          "name": "stderr",
          "text": [
            "\r 52%|█████▏    | 26/50 [08:37<07:42, 19.29s/it]"
          ]
        },
        {
          "output_type": "stream",
          "name": "stdout",
          "text": [
            "\tValidation loss 1.12\n",
            "\tValidation Accuracy 55.99\n",
            "Epoch 26\n",
            "Training data loss 1.23\n",
            "Accuracy is 52.18\n"
          ]
        },
        {
          "output_type": "stream",
          "name": "stderr",
          "text": [
            "\r 54%|█████▍    | 27/50 [08:56<07:23, 19.28s/it]"
          ]
        },
        {
          "output_type": "stream",
          "name": "stdout",
          "text": [
            "\tValidation loss 1.12\n",
            "\tValidation Accuracy 56.15\n",
            "Epoch 27\n",
            "Training data loss 1.23\n",
            "Accuracy is 52.35\n"
          ]
        },
        {
          "output_type": "stream",
          "name": "stderr",
          "text": [
            "\r 56%|█████▌    | 28/50 [09:16<07:09, 19.52s/it]"
          ]
        },
        {
          "output_type": "stream",
          "name": "stdout",
          "text": [
            "\tValidation loss 1.1\n",
            "\tValidation Accuracy 56.32\n",
            "Epoch 28\n",
            "Training data loss 1.24\n",
            "Accuracy is 52.5\n"
          ]
        },
        {
          "output_type": "stream",
          "name": "stderr",
          "text": [
            "\r 58%|█████▊    | 29/50 [09:36<06:48, 19.48s/it]"
          ]
        },
        {
          "output_type": "stream",
          "name": "stdout",
          "text": [
            "\tValidation loss 1.14\n",
            "\tValidation Accuracy 56.42\n",
            "Epoch 29\n",
            "Training data loss 1.23\n",
            "Accuracy is 52.65\n"
          ]
        },
        {
          "output_type": "stream",
          "name": "stderr",
          "text": [
            "\r 60%|██████    | 30/50 [09:55<06:28, 19.43s/it]"
          ]
        },
        {
          "output_type": "stream",
          "name": "stdout",
          "text": [
            "\tValidation loss 1.11\n",
            "\tValidation Accuracy 56.55\n",
            "Epoch 30\n",
            "Training data loss 1.23\n",
            "Accuracy is 52.79\n"
          ]
        },
        {
          "output_type": "stream",
          "name": "stderr",
          "text": [
            "\r 62%|██████▏   | 31/50 [10:14<06:08, 19.40s/it]"
          ]
        },
        {
          "output_type": "stream",
          "name": "stdout",
          "text": [
            "\tValidation loss 1.1\n",
            "\tValidation Accuracy 56.7\n",
            "Epoch 31\n",
            "Training data loss 1.23\n",
            "Accuracy is 52.93\n"
          ]
        },
        {
          "output_type": "stream",
          "name": "stderr",
          "text": [
            "\r 64%|██████▍   | 32/50 [10:35<05:53, 19.65s/it]"
          ]
        },
        {
          "output_type": "stream",
          "name": "stdout",
          "text": [
            "\tValidation loss 1.09\n",
            "\tValidation Accuracy 56.85\n",
            "Epoch 32\n",
            "Training data loss 1.22\n",
            "Accuracy is 53.06\n"
          ]
        },
        {
          "output_type": "stream",
          "name": "stderr",
          "text": [
            "\r 66%|██████▌   | 33/50 [10:54<05:33, 19.59s/it]"
          ]
        },
        {
          "output_type": "stream",
          "name": "stdout",
          "text": [
            "\tValidation loss 1.08\n",
            "\tValidation Accuracy 57.0\n",
            "Epoch 33\n",
            "Training data loss 1.22\n",
            "Accuracy is 53.19\n"
          ]
        },
        {
          "output_type": "stream",
          "name": "stderr",
          "text": [
            "\r 68%|██████▊   | 34/50 [11:13<05:11, 19.47s/it]"
          ]
        },
        {
          "output_type": "stream",
          "name": "stdout",
          "text": [
            "\tValidation loss 1.09\n",
            "\tValidation Accuracy 57.13\n",
            "Epoch 34\n",
            "Training data loss 1.22\n",
            "Accuracy is 53.32\n"
          ]
        },
        {
          "output_type": "stream",
          "name": "stderr",
          "text": [
            "\r 70%|███████   | 35/50 [11:33<04:51, 19.43s/it]"
          ]
        },
        {
          "output_type": "stream",
          "name": "stdout",
          "text": [
            "\tValidation loss 1.09\n",
            "\tValidation Accuracy 57.24\n",
            "Epoch 35\n",
            "Training data loss 1.22\n",
            "Accuracy is 53.43\n"
          ]
        },
        {
          "output_type": "stream",
          "name": "stderr",
          "text": [
            "\r 72%|███████▏  | 36/50 [11:52<04:33, 19.56s/it]"
          ]
        },
        {
          "output_type": "stream",
          "name": "stdout",
          "text": [
            "\tValidation loss 1.07\n",
            "\tValidation Accuracy 57.39\n",
            "Epoch 36\n",
            "Training data loss 1.21\n",
            "Accuracy is 53.55\n"
          ]
        },
        {
          "output_type": "stream",
          "name": "stderr",
          "text": [
            "\r 74%|███████▍  | 37/50 [12:12<04:12, 19.40s/it]"
          ]
        },
        {
          "output_type": "stream",
          "name": "stdout",
          "text": [
            "\tValidation loss 1.08\n",
            "\tValidation Accuracy 57.51\n",
            "Epoch 37\n",
            "Training data loss 1.21\n",
            "Accuracy is 53.67\n"
          ]
        },
        {
          "output_type": "stream",
          "name": "stderr",
          "text": [
            "\r 76%|███████▌  | 38/50 [12:30<03:51, 19.27s/it]"
          ]
        },
        {
          "output_type": "stream",
          "name": "stdout",
          "text": [
            "\tValidation loss 1.08\n",
            "\tValidation Accuracy 57.61\n",
            "Epoch 38\n",
            "Training data loss 1.21\n",
            "Accuracy is 53.78\n"
          ]
        },
        {
          "output_type": "stream",
          "name": "stderr",
          "text": [
            "\r 78%|███████▊  | 39/50 [12:50<03:33, 19.45s/it]"
          ]
        },
        {
          "output_type": "stream",
          "name": "stdout",
          "text": [
            "\tValidation loss 1.07\n",
            "\tValidation Accuracy 57.73\n",
            "Epoch 39\n",
            "Training data loss 1.21\n",
            "Accuracy is 53.88\n"
          ]
        },
        {
          "output_type": "stream",
          "name": "stderr",
          "text": [
            "\r 80%|████████  | 40/50 [13:10<03:13, 19.37s/it]"
          ]
        },
        {
          "output_type": "stream",
          "name": "stdout",
          "text": [
            "\tValidation loss 1.05\n",
            "\tValidation Accuracy 57.87\n",
            "Epoch 40\n",
            "Training data loss 1.21\n",
            "Accuracy is 53.98\n"
          ]
        },
        {
          "output_type": "stream",
          "name": "stderr",
          "text": [
            "\r 82%|████████▏ | 41/50 [13:29<02:54, 19.36s/it]"
          ]
        },
        {
          "output_type": "stream",
          "name": "stdout",
          "text": [
            "\tValidation loss 1.06\n",
            "\tValidation Accuracy 57.97\n",
            "Epoch 41\n",
            "Training data loss 1.2\n",
            "Accuracy is 54.09\n"
          ]
        },
        {
          "output_type": "stream",
          "name": "stderr",
          "text": [
            "\r 84%|████████▍ | 42/50 [13:48<02:34, 19.32s/it]"
          ]
        },
        {
          "output_type": "stream",
          "name": "stdout",
          "text": [
            "\tValidation loss 1.05\n",
            "\tValidation Accuracy 58.09\n",
            "Epoch 42\n",
            "Training data loss 1.21\n",
            "Accuracy is 54.18\n"
          ]
        },
        {
          "output_type": "stream",
          "name": "stderr",
          "text": [
            "\r 86%|████████▌ | 43/50 [14:08<02:17, 19.58s/it]"
          ]
        },
        {
          "output_type": "stream",
          "name": "stdout",
          "text": [
            "\tValidation loss 1.06\n",
            "\tValidation Accuracy 58.21\n",
            "Epoch 43\n",
            "Training data loss 1.2\n",
            "Accuracy is 54.28\n"
          ]
        },
        {
          "output_type": "stream",
          "name": "stderr",
          "text": [
            "\r 88%|████████▊ | 44/50 [14:28<01:56, 19.50s/it]"
          ]
        },
        {
          "output_type": "stream",
          "name": "stdout",
          "text": [
            "\tValidation loss 1.06\n",
            "\tValidation Accuracy 58.32\n",
            "Epoch 44\n",
            "Training data loss 1.2\n",
            "Accuracy is 54.37\n"
          ]
        },
        {
          "output_type": "stream",
          "name": "stderr",
          "text": [
            "\r 90%|█████████ | 45/50 [14:47<01:37, 19.44s/it]"
          ]
        },
        {
          "output_type": "stream",
          "name": "stdout",
          "text": [
            "\tValidation loss 1.06\n",
            "\tValidation Accuracy 58.43\n",
            "Epoch 45\n",
            "Training data loss 1.2\n",
            "Accuracy is 54.46\n"
          ]
        },
        {
          "output_type": "stream",
          "name": "stderr",
          "text": [
            "\r 92%|█████████▏| 46/50 [15:06<01:17, 19.38s/it]"
          ]
        },
        {
          "output_type": "stream",
          "name": "stdout",
          "text": [
            "\tValidation loss 1.06\n",
            "\tValidation Accuracy 58.51\n",
            "Epoch 46\n",
            "Training data loss 1.19\n",
            "Accuracy is 54.55\n"
          ]
        },
        {
          "output_type": "stream",
          "name": "stderr",
          "text": [
            "\r 94%|█████████▍| 47/50 [15:26<00:58, 19.59s/it]"
          ]
        },
        {
          "output_type": "stream",
          "name": "stdout",
          "text": [
            "\tValidation loss 1.08\n",
            "\tValidation Accuracy 58.59\n",
            "Epoch 47\n",
            "Training data loss 1.2\n",
            "Accuracy is 54.63\n"
          ]
        },
        {
          "output_type": "stream",
          "name": "stderr",
          "text": [
            "\r 96%|█████████▌| 48/50 [15:45<00:38, 19.45s/it]"
          ]
        },
        {
          "output_type": "stream",
          "name": "stdout",
          "text": [
            "\tValidation loss 1.07\n",
            "\tValidation Accuracy 58.66\n",
            "Epoch 48\n",
            "Training data loss 1.2\n",
            "Accuracy is 54.71\n"
          ]
        },
        {
          "output_type": "stream",
          "name": "stderr",
          "text": [
            "\r 98%|█████████▊| 49/50 [16:04<00:19, 19.35s/it]"
          ]
        },
        {
          "output_type": "stream",
          "name": "stdout",
          "text": [
            "\tValidation loss 1.08\n",
            "\tValidation Accuracy 58.72\n",
            "Epoch 49\n",
            "Training data loss 1.19\n",
            "Accuracy is 54.79\n"
          ]
        },
        {
          "output_type": "stream",
          "name": "stderr",
          "text": [
            "100%|██████████| 50/50 [16:24<00:00, 19.69s/it]\n",
            "The PostScript backend does not support transparency; partially transparent artists will be rendered opaque.\n",
            "The PostScript backend does not support transparency; partially transparent artists will be rendered opaque.\n"
          ]
        },
        {
          "output_type": "stream",
          "name": "stdout",
          "text": [
            "\tValidation loss 1.04\n",
            "\tValidation Accuracy 58.81\n",
            "--Finished Training\n",
            "--Model saved to  ./weights/check_convnet/check_convnet.pth\n",
            "--Best model saved to ./weights/check_convnet/best_check_convnet.pth\n"
          ]
        },
        {
          "output_type": "display_data",
          "data": {
            "text/plain": [
              "<Figure size 432x288 with 1 Axes>"
            ],
            "image/png": "[encoded data removed]"
          },
          "metadata": {
            "needs_background": "light"
          }
        },
        {
          "output_type": "stream",
          "name": "stderr",
          "text": [
            "The PostScript backend does not support transparency; partially transparent artists will be rendered opaque.\n",
            "The PostScript backend does not support transparency; partially transparent artists will be rendered opaque.\n"
          ]
        },
        {
          "output_type": "display_data",
          "data": {
            "text/plain": [
              "<Figure size 432x288 with 1 Axes>"
            ],
            "image/png": "[encoded data removed]"
          },
          "metadata": {
            "needs_background": "light"
          }
        }
      ]
    },
    {
      "cell_type": "code",
      "source": [
        "#create STL dataset\n",
        "\n",
        "transform_stl=transforms.Compose(\n",
        "    [transforms.ToTensor(),\n",
        "     transforms.Normalize((0.5,0.5,0.5),(0.5,0.5,0.5)),\n",
        "     transforms.Resize([int(32),int(32)])])"
      ],
      "metadata": {
        "id": "HBIz1CW8B-q3"
      },
      "execution_count": 9,
      "outputs": []
    },
    {
      "cell_type": "code",
      "source": [
        "#stl dataset with only 5 classes\n",
        "#STL10 dataset\n",
        "def get_same_index(target,classes_req):\n",
        "  label_indices=[]\n",
        "  for i in range (len(target)):\n",
        "    for j in classes_req:\n",
        "      if target[i]==j:\n",
        "        label_indices.append(i)\n",
        "  return label_indices\n",
        "\n",
        "train_stl=torchvision.datasets.STL10(root='./data',\n",
        "                                           transform=transform_stl,split='train',download=True)\n",
        "#cifar10 classes\n",
        "#classes = ('plane', 'car', 'bird', 'cat','deer', 'dog', 'frog', 'horse', 'ship', 'truck')\n",
        "#stl dataset classes\n",
        "# airplane, bird, car, cat, deer, dog, horse, monkey, ship, truck\n",
        "classes_req=[0,1,2,3,4]\n",
        "train_labels=get_same_index(train_stl.labels,classes_req)\n",
        "trainloader=torch.utils.data.DataLoader(dataset=train_stl,batch_size=16,sampler=torch.utils.data.sampler.SubsetRandomSampler(train_labels))\n",
        "\n",
        "\n",
        "test_stl=torchvision.datasets.STL10(root='./data',\n",
        "                                           transform=transform_stl,split='test',download=True)\n",
        "test_stl_indices = get_same_index(test_stl.labels, classes_req)\n",
        "\n",
        "# Data loader\n",
        "test_stl_loader = torch.utils.data.DataLoader(dataset=test_stl,\n",
        "                                           batch_size=16,\n",
        "                                           sampler=torch.utils.data.sampler.SubsetRandomSampler(test_stl_indices))\n",
        "\n"
      ],
      "metadata": {
        "colab": {
          "base_uri": "https://localhost:8080/"
        },
        "id": "JWplxYFZJ_CW",
        "outputId": "c8b21aef-694e-46b9-951e-74d4d54ad5e3"
      },
      "execution_count": 10,
      "outputs": [
        {
          "output_type": "stream",
          "name": "stdout",
          "text": [
            "Files already downloaded and verified\n",
            "Files already downloaded and verified\n"
          ]
        }
      ]
    },
    {
      "cell_type": "markdown",
      "source": [
        "###finetune from Convnet and train stl model"
      ],
      "metadata": {
        "id": "_fKbavhHNwIn"
      }
    },
    {
      "cell_type": "code",
      "source": [
        "model_cnn=ConvNet()"
      ],
      "metadata": {
        "id": "THw6VnltN0M_"
      },
      "execution_count": 11,
      "outputs": []
    },
    {
      "cell_type": "code",
      "source": [
        "model_cnn"
      ],
      "metadata": {
        "colab": {
          "base_uri": "https://localhost:8080/"
        },
        "id": "5vcPN3VeN-Y2",
        "outputId": "1081cbc7-316a-41ab-db61-61b134a525b1"
      },
      "execution_count": 12,
      "outputs": [
        {
          "output_type": "execute_result",
          "data": {
            "text/plain": [
              "ConvNet(\n",
              "  (conv1): Conv2d(3, 6, kernel_size=(5, 5), stride=(1, 1))\n",
              "  (dropout): Dropout(p=0.4, inplace=False)\n",
              "  (conv2): Conv2d(6, 16, kernel_size=(5, 5), stride=(1, 1))\n",
              "  (fc1): Linear(in_features=400, out_features=120, bias=True)\n",
              "  (fc2): Linear(in_features=120, out_features=84, bias=True)\n",
              "  (fc3): Linear(in_features=84, out_features=10, bias=True)\n",
              ")"
            ]
          },
          "metadata": {},
          "execution_count": 12
        }
      ]
    },
    {
      "cell_type": "code",
      "source": [
        "model_cnn.load_state_dict(torch.load('/content/weights/check_convnet/best_check_convnet.pth'))"
      ],
      "metadata": {
        "colab": {
          "base_uri": "https://localhost:8080/"
        },
        "id": "XktQzlatOI30",
        "outputId": "da206442-4cbb-45d4-a7ff-36bbc4c6bd1d"
      },
      "execution_count": 13,
      "outputs": [
        {
          "output_type": "execute_result",
          "data": {
            "text/plain": [
              "<All keys matched successfully>"
            ]
          },
          "metadata": {},
          "execution_count": 13
        }
      ]
    },
    {
      "cell_type": "code",
      "source": [
        "for param in model_cnn.parameters():\n",
        "  param.requires_grad=False"
      ],
      "metadata": {
        "id": "CbXmLH0wOTQa"
      },
      "execution_count": 14,
      "outputs": []
    },
    {
      "cell_type": "code",
      "source": [
        "model_cnn.fc2=nn.Linear(in_features=120,out_features=84)\n",
        "model_cnn.fc3=nn.Linear(in_features=84,out_features=5)"
      ],
      "metadata": {
        "id": "mSxKgvAkOcYZ"
      },
      "execution_count": 15,
      "outputs": []
    },
    {
      "cell_type": "code",
      "source": [
        "model_cnn"
      ],
      "metadata": {
        "colab": {
          "base_uri": "https://localhost:8080/"
        },
        "id": "SYROPe0FOsq1",
        "outputId": "320302d8-06f3-4526-e96a-fcf97879b93a"
      },
      "execution_count": 16,
      "outputs": [
        {
          "output_type": "execute_result",
          "data": {
            "text/plain": [
              "ConvNet(\n",
              "  (conv1): Conv2d(3, 6, kernel_size=(5, 5), stride=(1, 1))\n",
              "  (dropout): Dropout(p=0.4, inplace=False)\n",
              "  (conv2): Conv2d(6, 16, kernel_size=(5, 5), stride=(1, 1))\n",
              "  (fc1): Linear(in_features=400, out_features=120, bias=True)\n",
              "  (fc2): Linear(in_features=120, out_features=84, bias=True)\n",
              "  (fc3): Linear(in_features=84, out_features=5, bias=True)\n",
              ")"
            ]
          },
          "metadata": {},
          "execution_count": 16
        }
      ]
    },
    {
      "cell_type": "code",
      "source": [
        "import os\n",
        "import copy \n",
        "def train(net,trainloader,epoch,filename,path):\n",
        "  loss=nn.CrossEntropyLoss()\n",
        "  optimizer=optim.Adam(net.parameters(),lr=0.0001,weight_decay=0.001)\n",
        "  device=torch.device('cuda' if torch.cuda.is_available() else \"cpu\")\n",
        "  net.to(device)\n",
        "  \n",
        "  total_loss=0\n",
        "  correct_pred=0\n",
        "  total_vl=0\n",
        "  correct_vl=0\n",
        "  \n",
        "  t_acc=[]\n",
        "  t_ls=[]\n",
        "\n",
        "  wandb.define_metric(\"epoch\")\n",
        "  wandb.define_metric(\"finetune_train_loss\", step_metric = \"epoch\")\n",
        "  wandb.define_metric(\"finetune_train_accuracy\", step_metric = \"epoch\")\n",
        "\n",
        "  if not(os.path.exists(path)):\n",
        "      os.makedirs(path)\n",
        "  best_fname='best_finetune_'+filename\n",
        "  fname=os.path.join(path,filename)\n",
        "  best_fname=os.path.join(path,best_fname)\n",
        "\n",
        "  for epoch in tqdm(range(epoch)):\n",
        "    net.train()\n",
        "    loss_epoch=0\n",
        "    for xtrain,ytrain in trainloader:\n",
        "      xtrain=xtrain.to(device)\n",
        "      ytrain=ytrain.to(device)\n",
        "      net.zero_grad()\n",
        "\n",
        "      ypredtrain=net(xtrain)\n",
        "      trainloss=loss(ypredtrain,ytrain)\n",
        "      loss_epoch+=trainloss.item() #loss.item() contains the loss of the entire mini-batch\n",
        "      trainloss.backward()\n",
        "      optimizer.step()\n",
        "      optimizer.zero_grad()\n",
        "      _,predicted=ypredtrain.max(1)\n",
        "      total_loss+=ytrain.size(0)\n",
        "      correct_pred+=predicted.eq(ytrain).sum().item()\n",
        "\n",
        "    print(\"Epoch\",int(epoch))\n",
        "    epoch_loss=round(loss_epoch/len(trainloader),2)\n",
        "    print(\"Training data loss\",epoch_loss)\n",
        "\n",
        "    epoch_accuracy=round(100*correct_pred/total_loss,2)\n",
        "    print(\"Accuracy is\",epoch_accuracy)\n",
        "    t_acc.append(epoch_accuracy)\n",
        "    t_ls.append(epoch_loss)\n",
        "    wandb.log({\"finetune_train_loss\": epoch_loss})\n",
        "    wandb.log({\"finetune_train_accuracy\": epoch_accuracy})\n",
        "    wandb.log({'epoch':epoch+1})   \n",
        "\n",
        "\n",
        "  print('--Finished Training')\n",
        "      \n",
        "  #loss plotter for train and validation \n",
        "  plt.title('Cross Entropy Loss {}'.format(type(net).__name__))\n",
        "  plt.xlabel('Epoch')\n",
        " \n",
        "  plt.plot(t_ls,label=\"train\")\n",
        "  # plt.plot(v_ls, label=\"valid\")\n",
        "  plt.legend()\n",
        "  fname = 'Train Cross Entropy Loss {}'.format(type(net).__name__) + '.eps'\n",
        "  fname = os.path.join(path, fname)\n",
        "  plt.savefig(fname, format='eps')\n",
        "  plt.show()\n",
        "\n",
        "  #accuracy plotter for train and validation\n",
        "  plt.title('Accuracy {}'.format(type(net).__name__))\n",
        "  plt.xlabel('Epoch')\n",
        "\n",
        "  plt.plot(t_acc,label=\"train\")\n",
        "  # plt.plot(v_acc, label='valid' )\n",
        "  plt.legend()\n",
        "  \n",
        "  fname = 'Train Accuracy {}'.format(type(net).__name__) + '.eps'\n",
        "  fname = os.path.join(path, fname)\n",
        "  plt.savefig(fname, format='eps')\n",
        "  plt.show()\n",
        "\n",
        "  return copy.deepcopy(net)\n",
        "\n"
      ],
      "metadata": {
        "id": "4YvjmUWFOtqs"
      },
      "execution_count": 17,
      "outputs": []
    },
    {
      "cell_type": "code",
      "source": [
        "model_finetune=train(model_cnn, trainloader, 60, path = './', filename = 'convnet_basic.pth')"
      ],
      "metadata": {
        "colab": {
          "base_uri": "https://localhost:8080/",
          "height": 1000
        },
        "id": "5c2-HhZ0UDce",
        "outputId": "e9a695f3-b4bd-455c-ee64-99ca620f212e"
      },
      "execution_count": 18,
      "outputs": [
        {
          "output_type": "stream",
          "name": "stderr",
          "text": [
            "  2%|▏         | 1/60 [00:01<01:43,  1.75s/it]"
          ]
        },
        {
          "output_type": "stream",
          "name": "stdout",
          "text": [
            "Epoch 0\n",
            "Training data loss 1.55\n",
            "Accuracy is 30.24\n"
          ]
        },
        {
          "output_type": "stream",
          "name": "stderr",
          "text": [
            "\r  3%|▎         | 2/60 [00:03<01:42,  1.76s/it]"
          ]
        },
        {
          "output_type": "stream",
          "name": "stdout",
          "text": [
            "Epoch 1\n",
            "Training data loss 1.41\n",
            "Accuracy is 38.02\n"
          ]
        },
        {
          "output_type": "stream",
          "name": "stderr",
          "text": [
            "\r  5%|▌         | 3/60 [00:05<01:39,  1.75s/it]"
          ]
        },
        {
          "output_type": "stream",
          "name": "stdout",
          "text": [
            "Epoch 2\n",
            "Training data loss 1.3\n",
            "Accuracy is 41.4\n"
          ]
        },
        {
          "output_type": "stream",
          "name": "stderr",
          "text": [
            "\r  7%|▋         | 4/60 [00:06<01:37,  1.74s/it]"
          ]
        },
        {
          "output_type": "stream",
          "name": "stdout",
          "text": [
            "Epoch 3\n",
            "Training data loss 1.22\n",
            "Accuracy is 44.07\n"
          ]
        },
        {
          "output_type": "stream",
          "name": "stderr",
          "text": [
            "\r  8%|▊         | 5/60 [00:08<01:35,  1.73s/it]"
          ]
        },
        {
          "output_type": "stream",
          "name": "stdout",
          "text": [
            "Epoch 4\n",
            "Training data loss 1.17\n",
            "Accuracy is 45.98\n"
          ]
        },
        {
          "output_type": "stream",
          "name": "stderr",
          "text": [
            "\r 10%|█         | 6/60 [00:10<01:33,  1.73s/it]"
          ]
        },
        {
          "output_type": "stream",
          "name": "stdout",
          "text": [
            "Epoch 5\n",
            "Training data loss 1.12\n",
            "Accuracy is 47.46\n"
          ]
        },
        {
          "output_type": "stream",
          "name": "stderr",
          "text": [
            "\r 12%|█▏        | 7/60 [00:12<01:31,  1.72s/it]"
          ]
        },
        {
          "output_type": "stream",
          "name": "stdout",
          "text": [
            "Epoch 6\n",
            "Training data loss 1.12\n",
            "Accuracy is 48.63\n"
          ]
        },
        {
          "output_type": "stream",
          "name": "stderr",
          "text": [
            "\r 13%|█▎        | 8/60 [00:13<01:29,  1.73s/it]"
          ]
        },
        {
          "output_type": "stream",
          "name": "stdout",
          "text": [
            "Epoch 7\n",
            "Training data loss 1.1\n",
            "Accuracy is 49.44\n"
          ]
        },
        {
          "output_type": "stream",
          "name": "stderr",
          "text": [
            "\r 15%|█▌        | 9/60 [00:15<01:28,  1.73s/it]"
          ]
        },
        {
          "output_type": "stream",
          "name": "stdout",
          "text": [
            "Epoch 8\n",
            "Training data loss 1.08\n",
            "Accuracy is 50.09\n"
          ]
        },
        {
          "output_type": "stream",
          "name": "stderr",
          "text": [
            "\r 17%|█▋        | 10/60 [00:17<01:26,  1.73s/it]"
          ]
        },
        {
          "output_type": "stream",
          "name": "stdout",
          "text": [
            "Epoch 9\n",
            "Training data loss 1.08\n",
            "Accuracy is 50.6\n"
          ]
        },
        {
          "output_type": "stream",
          "name": "stderr",
          "text": [
            "\r 18%|█▊        | 11/60 [00:19<01:24,  1.73s/it]"
          ]
        },
        {
          "output_type": "stream",
          "name": "stdout",
          "text": [
            "Epoch 10\n",
            "Training data loss 1.07\n",
            "Accuracy is 51.1\n"
          ]
        },
        {
          "output_type": "stream",
          "name": "stderr",
          "text": [
            "\r 20%|██        | 12/60 [00:20<01:22,  1.72s/it]"
          ]
        },
        {
          "output_type": "stream",
          "name": "stdout",
          "text": [
            "Epoch 11\n",
            "Training data loss 1.05\n",
            "Accuracy is 51.64\n"
          ]
        },
        {
          "output_type": "stream",
          "name": "stderr",
          "text": [
            "\r 22%|██▏       | 13/60 [00:22<01:21,  1.73s/it]"
          ]
        },
        {
          "output_type": "stream",
          "name": "stdout",
          "text": [
            "Epoch 12\n",
            "Training data loss 1.06\n",
            "Accuracy is 52.05\n"
          ]
        },
        {
          "output_type": "stream",
          "name": "stderr",
          "text": [
            "\r 23%|██▎       | 14/60 [00:24<01:23,  1.81s/it]"
          ]
        },
        {
          "output_type": "stream",
          "name": "stdout",
          "text": [
            "Epoch 13\n",
            "Training data loss 1.06\n",
            "Accuracy is 52.47\n"
          ]
        },
        {
          "output_type": "stream",
          "name": "stderr",
          "text": [
            "\r 25%|██▌       | 15/60 [00:26<01:27,  1.95s/it]"
          ]
        },
        {
          "output_type": "stream",
          "name": "stdout",
          "text": [
            "Epoch 14\n",
            "Training data loss 1.06\n",
            "Accuracy is 52.75\n"
          ]
        },
        {
          "output_type": "stream",
          "name": "stderr",
          "text": [
            "\r 27%|██▋       | 16/60 [00:28<01:22,  1.89s/it]"
          ]
        },
        {
          "output_type": "stream",
          "name": "stdout",
          "text": [
            "Epoch 15\n",
            "Training data loss 1.05\n",
            "Accuracy is 52.98\n"
          ]
        },
        {
          "output_type": "stream",
          "name": "stderr",
          "text": [
            "\r 28%|██▊       | 17/60 [00:30<01:19,  1.85s/it]"
          ]
        },
        {
          "output_type": "stream",
          "name": "stdout",
          "text": [
            "Epoch 16\n",
            "Training data loss 1.06\n",
            "Accuracy is 53.2\n"
          ]
        },
        {
          "output_type": "stream",
          "name": "stderr",
          "text": [
            "\r 30%|███       | 18/60 [00:32<01:16,  1.81s/it]"
          ]
        },
        {
          "output_type": "stream",
          "name": "stdout",
          "text": [
            "Epoch 17\n",
            "Training data loss 1.05\n",
            "Accuracy is 53.47\n"
          ]
        },
        {
          "output_type": "stream",
          "name": "stderr",
          "text": [
            "\r 32%|███▏      | 19/60 [00:33<01:13,  1.79s/it]"
          ]
        },
        {
          "output_type": "stream",
          "name": "stdout",
          "text": [
            "Epoch 18\n",
            "Training data loss 1.04\n",
            "Accuracy is 53.7\n"
          ]
        },
        {
          "output_type": "stream",
          "name": "stderr",
          "text": [
            "\r 33%|███▎      | 20/60 [00:35<01:11,  1.78s/it]"
          ]
        },
        {
          "output_type": "stream",
          "name": "stdout",
          "text": [
            "Epoch 19\n",
            "Training data loss 1.05\n",
            "Accuracy is 53.88\n"
          ]
        },
        {
          "output_type": "stream",
          "name": "stderr",
          "text": [
            "\r 35%|███▌      | 21/60 [00:37<01:08,  1.76s/it]"
          ]
        },
        {
          "output_type": "stream",
          "name": "stdout",
          "text": [
            "Epoch 20\n",
            "Training data loss 1.05\n",
            "Accuracy is 54.03\n"
          ]
        },
        {
          "output_type": "stream",
          "name": "stderr",
          "text": [
            "\r 37%|███▋      | 22/60 [00:38<01:06,  1.75s/it]"
          ]
        },
        {
          "output_type": "stream",
          "name": "stdout",
          "text": [
            "Epoch 21\n",
            "Training data loss 1.03\n",
            "Accuracy is 54.23\n"
          ]
        },
        {
          "output_type": "stream",
          "name": "stderr",
          "text": [
            "\r 38%|███▊      | 23/60 [00:40<01:04,  1.75s/it]"
          ]
        },
        {
          "output_type": "stream",
          "name": "stdout",
          "text": [
            "Epoch 22\n",
            "Training data loss 1.03\n",
            "Accuracy is 54.4\n"
          ]
        },
        {
          "output_type": "stream",
          "name": "stderr",
          "text": [
            "\r 40%|████      | 24/60 [00:42<01:02,  1.74s/it]"
          ]
        },
        {
          "output_type": "stream",
          "name": "stdout",
          "text": [
            "Epoch 23\n",
            "Training data loss 1.04\n",
            "Accuracy is 54.55\n"
          ]
        },
        {
          "output_type": "stream",
          "name": "stderr",
          "text": [
            "\r 42%|████▏     | 25/60 [00:44<01:00,  1.73s/it]"
          ]
        },
        {
          "output_type": "stream",
          "name": "stdout",
          "text": [
            "Epoch 24\n",
            "Training data loss 1.02\n",
            "Accuracy is 54.71\n"
          ]
        },
        {
          "output_type": "stream",
          "name": "stderr",
          "text": [
            "\r 43%|████▎     | 26/60 [00:45<00:58,  1.73s/it]"
          ]
        },
        {
          "output_type": "stream",
          "name": "stdout",
          "text": [
            "Epoch 25\n",
            "Training data loss 1.06\n",
            "Accuracy is 54.8\n"
          ]
        },
        {
          "output_type": "stream",
          "name": "stderr",
          "text": [
            "\r 45%|████▌     | 27/60 [00:47<00:57,  1.73s/it]"
          ]
        },
        {
          "output_type": "stream",
          "name": "stdout",
          "text": [
            "Epoch 26\n",
            "Training data loss 1.02\n",
            "Accuracy is 54.93\n"
          ]
        },
        {
          "output_type": "stream",
          "name": "stderr",
          "text": [
            "\r 47%|████▋     | 28/60 [00:49<00:55,  1.74s/it]"
          ]
        },
        {
          "output_type": "stream",
          "name": "stdout",
          "text": [
            "Epoch 27\n",
            "Training data loss 1.03\n",
            "Accuracy is 55.05\n"
          ]
        },
        {
          "output_type": "stream",
          "name": "stderr",
          "text": [
            "\r 48%|████▊     | 29/60 [00:51<00:53,  1.74s/it]"
          ]
        },
        {
          "output_type": "stream",
          "name": "stdout",
          "text": [
            "Epoch 28\n",
            "Training data loss 1.02\n",
            "Accuracy is 55.18\n"
          ]
        },
        {
          "output_type": "stream",
          "name": "stderr",
          "text": [
            "\r 50%|█████     | 30/60 [00:52<00:52,  1.75s/it]"
          ]
        },
        {
          "output_type": "stream",
          "name": "stdout",
          "text": [
            "Epoch 29\n",
            "Training data loss 1.03\n",
            "Accuracy is 55.28\n"
          ]
        },
        {
          "output_type": "stream",
          "name": "stderr",
          "text": [
            "\r 52%|█████▏    | 31/60 [00:54<00:50,  1.75s/it]"
          ]
        },
        {
          "output_type": "stream",
          "name": "stdout",
          "text": [
            "Epoch 30\n",
            "Training data loss 1.03\n",
            "Accuracy is 55.37\n"
          ]
        },
        {
          "output_type": "stream",
          "name": "stderr",
          "text": [
            "\r 53%|█████▎    | 32/60 [00:56<00:48,  1.73s/it]"
          ]
        },
        {
          "output_type": "stream",
          "name": "stdout",
          "text": [
            "Epoch 31\n",
            "Training data loss 1.04\n",
            "Accuracy is 55.44\n"
          ]
        },
        {
          "output_type": "stream",
          "name": "stderr",
          "text": [
            "\r 55%|█████▌    | 33/60 [00:58<00:46,  1.73s/it]"
          ]
        },
        {
          "output_type": "stream",
          "name": "stdout",
          "text": [
            "Epoch 32\n",
            "Training data loss 1.03\n",
            "Accuracy is 55.52\n"
          ]
        },
        {
          "output_type": "stream",
          "name": "stderr",
          "text": [
            "\r 57%|█████▋    | 34/60 [00:59<00:45,  1.74s/it]"
          ]
        },
        {
          "output_type": "stream",
          "name": "stdout",
          "text": [
            "Epoch 33\n",
            "Training data loss 1.03\n",
            "Accuracy is 55.58\n"
          ]
        },
        {
          "output_type": "stream",
          "name": "stderr",
          "text": [
            "\r 58%|█████▊    | 35/60 [01:01<00:43,  1.74s/it]"
          ]
        },
        {
          "output_type": "stream",
          "name": "stdout",
          "text": [
            "Epoch 34\n",
            "Training data loss 1.02\n",
            "Accuracy is 55.65\n"
          ]
        },
        {
          "output_type": "stream",
          "name": "stderr",
          "text": [
            "\r 60%|██████    | 36/60 [01:03<00:41,  1.74s/it]"
          ]
        },
        {
          "output_type": "stream",
          "name": "stdout",
          "text": [
            "Epoch 35\n",
            "Training data loss 1.01\n",
            "Accuracy is 55.73\n"
          ]
        },
        {
          "output_type": "stream",
          "name": "stderr",
          "text": [
            "\r 62%|██████▏   | 37/60 [01:05<00:40,  1.74s/it]"
          ]
        },
        {
          "output_type": "stream",
          "name": "stdout",
          "text": [
            "Epoch 36\n",
            "Training data loss 1.02\n",
            "Accuracy is 55.79\n"
          ]
        },
        {
          "output_type": "stream",
          "name": "stderr",
          "text": [
            "\r 63%|██████▎   | 38/60 [01:06<00:38,  1.73s/it]"
          ]
        },
        {
          "output_type": "stream",
          "name": "stdout",
          "text": [
            "Epoch 37\n",
            "Training data loss 1.02\n",
            "Accuracy is 55.88\n"
          ]
        },
        {
          "output_type": "stream",
          "name": "stderr",
          "text": [
            "\r 65%|██████▌   | 39/60 [01:08<00:36,  1.74s/it]"
          ]
        },
        {
          "output_type": "stream",
          "name": "stdout",
          "text": [
            "Epoch 38\n",
            "Training data loss 1.03\n",
            "Accuracy is 55.94\n"
          ]
        },
        {
          "output_type": "stream",
          "name": "stderr",
          "text": [
            "\r 67%|██████▋   | 40/60 [01:10<00:34,  1.73s/it]"
          ]
        },
        {
          "output_type": "stream",
          "name": "stdout",
          "text": [
            "Epoch 39\n",
            "Training data loss 1.02\n",
            "Accuracy is 56.02\n"
          ]
        },
        {
          "output_type": "stream",
          "name": "stderr",
          "text": [
            "\r 68%|██████▊   | 41/60 [01:11<00:32,  1.73s/it]"
          ]
        },
        {
          "output_type": "stream",
          "name": "stdout",
          "text": [
            "Epoch 40\n",
            "Training data loss 1.02\n",
            "Accuracy is 56.06\n"
          ]
        },
        {
          "output_type": "stream",
          "name": "stderr",
          "text": [
            "\r 70%|███████   | 42/60 [01:13<00:31,  1.73s/it]"
          ]
        },
        {
          "output_type": "stream",
          "name": "stdout",
          "text": [
            "Epoch 41\n",
            "Training data loss 1.03\n",
            "Accuracy is 56.13\n"
          ]
        },
        {
          "output_type": "stream",
          "name": "stderr",
          "text": [
            "\r 72%|███████▏  | 43/60 [01:15<00:29,  1.72s/it]"
          ]
        },
        {
          "output_type": "stream",
          "name": "stdout",
          "text": [
            "Epoch 42\n",
            "Training data loss 1.02\n",
            "Accuracy is 56.2\n"
          ]
        },
        {
          "output_type": "stream",
          "name": "stderr",
          "text": [
            "\r 73%|███████▎  | 44/60 [01:17<00:27,  1.71s/it]"
          ]
        },
        {
          "output_type": "stream",
          "name": "stdout",
          "text": [
            "Epoch 43\n",
            "Training data loss 1.02\n",
            "Accuracy is 56.24\n"
          ]
        },
        {
          "output_type": "stream",
          "name": "stderr",
          "text": [
            "\r 75%|███████▌  | 45/60 [01:18<00:25,  1.72s/it]"
          ]
        },
        {
          "output_type": "stream",
          "name": "stdout",
          "text": [
            "Epoch 44\n",
            "Training data loss 1.03\n",
            "Accuracy is 56.28\n"
          ]
        },
        {
          "output_type": "stream",
          "name": "stderr",
          "text": [
            "\r 77%|███████▋  | 46/60 [01:20<00:24,  1.72s/it]"
          ]
        },
        {
          "output_type": "stream",
          "name": "stdout",
          "text": [
            "Epoch 45\n",
            "Training data loss 1.02\n",
            "Accuracy is 56.32\n"
          ]
        },
        {
          "output_type": "stream",
          "name": "stderr",
          "text": [
            "\r 78%|███████▊  | 47/60 [01:22<00:22,  1.72s/it]"
          ]
        },
        {
          "output_type": "stream",
          "name": "stdout",
          "text": [
            "Epoch 46\n",
            "Training data loss 1.02\n",
            "Accuracy is 56.36\n"
          ]
        },
        {
          "output_type": "stream",
          "name": "stderr",
          "text": [
            "\r 80%|████████  | 48/60 [01:23<00:20,  1.72s/it]"
          ]
        },
        {
          "output_type": "stream",
          "name": "stdout",
          "text": [
            "Epoch 47\n",
            "Training data loss 1.0\n",
            "Accuracy is 56.41\n"
          ]
        },
        {
          "output_type": "stream",
          "name": "stderr",
          "text": [
            "\r 82%|████████▏ | 49/60 [01:25<00:18,  1.73s/it]"
          ]
        },
        {
          "output_type": "stream",
          "name": "stdout",
          "text": [
            "Epoch 48\n",
            "Training data loss 1.03\n",
            "Accuracy is 56.46\n"
          ]
        },
        {
          "output_type": "stream",
          "name": "stderr",
          "text": [
            "\r 83%|████████▎ | 50/60 [01:27<00:17,  1.71s/it]"
          ]
        },
        {
          "output_type": "stream",
          "name": "stdout",
          "text": [
            "Epoch 49\n",
            "Training data loss 1.01\n",
            "Accuracy is 56.53\n"
          ]
        },
        {
          "output_type": "stream",
          "name": "stderr",
          "text": [
            "\r 85%|████████▌ | 51/60 [01:29<00:15,  1.71s/it]"
          ]
        },
        {
          "output_type": "stream",
          "name": "stdout",
          "text": [
            "Epoch 50\n",
            "Training data loss 1.01\n",
            "Accuracy is 56.57\n"
          ]
        },
        {
          "output_type": "stream",
          "name": "stderr",
          "text": [
            "\r 87%|████████▋ | 52/60 [01:30<00:13,  1.71s/it]"
          ]
        },
        {
          "output_type": "stream",
          "name": "stdout",
          "text": [
            "Epoch 51\n",
            "Training data loss 1.01\n",
            "Accuracy is 56.62\n"
          ]
        },
        {
          "output_type": "stream",
          "name": "stderr",
          "text": [
            "\r 88%|████████▊ | 53/60 [01:32<00:12,  1.72s/it]"
          ]
        },
        {
          "output_type": "stream",
          "name": "stdout",
          "text": [
            "Epoch 52\n",
            "Training data loss 1.03\n",
            "Accuracy is 56.66\n"
          ]
        },
        {
          "output_type": "stream",
          "name": "stderr",
          "text": [
            "\r 90%|█████████ | 54/60 [01:34<00:10,  1.72s/it]"
          ]
        },
        {
          "output_type": "stream",
          "name": "stdout",
          "text": [
            "Epoch 53\n",
            "Training data loss 1.03\n",
            "Accuracy is 56.7\n"
          ]
        },
        {
          "output_type": "stream",
          "name": "stderr",
          "text": [
            "\r 92%|█████████▏| 55/60 [01:35<00:08,  1.71s/it]"
          ]
        },
        {
          "output_type": "stream",
          "name": "stdout",
          "text": [
            "Epoch 54\n",
            "Training data loss 1.01\n",
            "Accuracy is 56.75\n"
          ]
        },
        {
          "output_type": "stream",
          "name": "stderr",
          "text": [
            "\r 93%|█████████▎| 56/60 [01:37<00:06,  1.72s/it]"
          ]
        },
        {
          "output_type": "stream",
          "name": "stdout",
          "text": [
            "Epoch 55\n",
            "Training data loss 1.01\n",
            "Accuracy is 56.79\n"
          ]
        },
        {
          "output_type": "stream",
          "name": "stderr",
          "text": [
            "\r 95%|█████████▌| 57/60 [01:39<00:05,  1.80s/it]"
          ]
        },
        {
          "output_type": "stream",
          "name": "stdout",
          "text": [
            "Epoch 56\n",
            "Training data loss 1.01\n",
            "Accuracy is 56.83\n"
          ]
        },
        {
          "output_type": "stream",
          "name": "stderr",
          "text": [
            "\r 97%|█████████▋| 58/60 [01:41<00:03,  1.93s/it]"
          ]
        },
        {
          "output_type": "stream",
          "name": "stdout",
          "text": [
            "Epoch 57\n",
            "Training data loss 1.0\n",
            "Accuracy is 56.87\n"
          ]
        },
        {
          "output_type": "stream",
          "name": "stderr",
          "text": [
            "\r 98%|█████████▊| 59/60 [01:43<00:01,  1.87s/it]"
          ]
        },
        {
          "output_type": "stream",
          "name": "stdout",
          "text": [
            "Epoch 58\n",
            "Training data loss 1.0\n",
            "Accuracy is 56.91\n"
          ]
        },
        {
          "output_type": "stream",
          "name": "stderr",
          "text": [
            "100%|██████████| 60/60 [01:45<00:00,  1.76s/it]\n",
            "The PostScript backend does not support transparency; partially transparent artists will be rendered opaque.\n",
            "The PostScript backend does not support transparency; partially transparent artists will be rendered opaque.\n"
          ]
        },
        {
          "output_type": "stream",
          "name": "stdout",
          "text": [
            "Epoch 59\n",
            "Training data loss 1.0\n",
            "Accuracy is 56.95\n",
            "--Finished Training\n"
          ]
        },
        {
          "output_type": "display_data",
          "data": {
            "text/plain": [
              "<Figure size 432x288 with 1 Axes>"
            ],
            "image/png": "[encoded data removed]"
          },
          "metadata": {
            "needs_background": "light"
          }
        },
        {
          "output_type": "stream",
          "name": "stderr",
          "text": [
            "The PostScript backend does not support transparency; partially transparent artists will be rendered opaque.\n",
            "The PostScript backend does not support transparency; partially transparent artists will be rendered opaque.\n"
          ]
        },
        {
          "output_type": "display_data",
          "data": {
            "text/plain": [
              "<Figure size 432x288 with 1 Axes>"
            ],
            "image/png": "[encoded data removed]"
          },
          "metadata": {
            "needs_background": "light"
          }
        }
      ]
    },
    {
      "cell_type": "code",
      "source": [
        "def test(net,testloader):\n",
        "  loss=nn.CrossEntropyLoss()\n",
        "  optimizer=optim.Adam(net.parameters(),lr=0.0001,weight_decay=0.001)\n",
        "  device=torch.device('cuda' if torch.cuda.is_available() else \"cpu\")\n",
        "  net.to(device)\n",
        "  loss_epoch=0\n",
        "  test_loss_epoch=0\n",
        "  t_ls=[]\n",
        "  t_acc=[]\n",
        "  total_vl=0\n",
        "  correct_vl=0\n",
        "  net.eval()\n",
        "  with torch.no_grad():\n",
        "    for x,y in testloader:\n",
        "      \n",
        "      x=x.to(device)\n",
        "      y=y.to(device)\n",
        "      ypred=net(x)\n",
        "      testloss=loss(ypred,y)\n",
        "      test_loss_epoch+=testloss.item() #loss.item() contains the loss of the entire mini-batch\n",
        "      _, predicted = ypred.max(1)\n",
        "      total_vl += y.size(0)\n",
        "      correct_vl += predicted.eq(y).sum().item()\n",
        "    test_ep_loss = round(test_loss_epoch/len(testloader),2)\n",
        "    print('\\tTest loss',test_ep_loss )\n",
        "    test_ep_acc = round(100.*correct_vl/total_vl, 2)\n",
        "    print('\\tTest Accuracy',test_ep_acc)\n",
        "    t_ls.append(test_ep_loss)\n",
        "    t_acc.append(test_ep_acc)\n",
        "  wandb.log({\"finetune_test_loss\": test_ep_loss})\n",
        "  wandb.log({\"finetune_test_accuracy\": test_ep_acc})\n"
      ],
      "metadata": {
        "id": "Qm8pN23AU7X2"
      },
      "execution_count": 19,
      "outputs": []
    },
    {
      "cell_type": "code",
      "source": [
        "test(model_finetune,test_stl_loader)"
      ],
      "metadata": {
        "colab": {
          "base_uri": "https://localhost:8080/"
        },
        "id": "SWaCUySjbel5",
        "outputId": "ca5f1b5b-f9a1-43a2-ba5f-a7c11e8adbe9"
      },
      "execution_count": 20,
      "outputs": [
        {
          "output_type": "stream",
          "name": "stdout",
          "text": [
            "\tTest loss 0.97\n",
            "\tTest Accuracy 60.02\n"
          ]
        }
      ]
    },
    {
      "cell_type": "code",
      "source": [
        ""
      ],
      "metadata": {
        "id": "FJ5PueJhdaUv"
      },
      "execution_count": null,
      "outputs": []
    }
  ]
}